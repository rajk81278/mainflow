{
 "cells": [
  {
   "cell_type": "code",
   "execution_count": 1,
   "metadata": {},
   "outputs": [
    {
     "name": "stdout",
     "output_type": "stream",
     "text": [
      "Update List : ['INFY', 'Reliance', 'TECHM', 'HDFC']\n"
     ]
    }
   ],
   "source": [
    "# creating a list\n",
    "my_list= ['TCS', 'Reliance', 'SBI']\n",
    "\n",
    "# adding an element to the list\n",
    "my_list.append('HDFC')\n",
    "\n",
    "# removing an element from the list\n",
    "my_list.remove('SBI')\n",
    "\n",
    "# modifying an element in the list\n",
    "my_list[0]= 'INFY'\n",
    "\n",
    "# inserting an element in the list\n",
    "my_list.insert(2, 'TECHM')\n",
    "\n",
    "print('Update List :', my_list)"
   ]
  },
  {
   "cell_type": "code",
   "execution_count": 2,
   "metadata": {},
   "outputs": [
    {
     "name": "stdout",
     "output_type": "stream",
     "text": [
      "Updated Dictionary : {'Reliance': '3200', 'TECHM': '3500', 'HDFC': '1600', 'TCS': '4100'}\n"
     ]
    }
   ],
   "source": [
    "# Creating a dictionary\n",
    "my_dict = {'INFY':'1800', 'Reliance':'3100', 'TECHM': '3500', 'HDFC': '1600'}\n",
    "\n",
    "# adding a key-value pair from the ditionary\n",
    "my_dict['TCS'] = '4100'\n",
    "\n",
    "# removing a key-value pair from te dictionary\n",
    "del my_dict['INFY']\n",
    "\n",
    "# modifying a value in the dictionary\n",
    "my_dict['Reliance'] = '3200'\n",
    "\n",
    "print('Updated Dictionary :', my_dict)"
   ]
  },
  {
   "cell_type": "code",
   "execution_count": 8,
   "metadata": {},
   "outputs": [
    {
     "name": "stdout",
     "output_type": "stream",
     "text": [
      "(1, 2, 3, 5, 4)\n"
     ]
    }
   ],
   "source": [
    "# original Tuple\n",
    "original_tuple = (1, 2, 3, 4,)\n",
    "\n",
    "# Adding a new element to the tuple\n",
    "new_element = 5\n",
    "updated_tuple = original_tuple+ (new_element,)\n",
    "\n",
    "# Removing an element from the tuple\n",
    "updated_tuple = original_tuple[:1]+ original_tuple[2:]\n",
    "\n",
    "# modifying an element in the tuple\n",
    "\n",
    "modified_element = 5\n",
    "updated_tuple = original_tuple[:-1]+(modified_element,)+original_tuple[3:]\n",
    "print(updated_tuple)"
   ]
  }
 ],
 "metadata": {
  "kernelspec": {
   "display_name": "Python 3",
   "language": "python",
   "name": "python3"
  },
  "language_info": {
   "codemirror_mode": {
    "name": "ipython",
    "version": 3
   },
   "file_extension": ".py",
   "mimetype": "text/x-python",
   "name": "python",
   "nbconvert_exporter": "python",
   "pygments_lexer": "ipython3",
   "version": "3.12.4"
  }
 },
 "nbformat": 4,
 "nbformat_minor": 2
}
